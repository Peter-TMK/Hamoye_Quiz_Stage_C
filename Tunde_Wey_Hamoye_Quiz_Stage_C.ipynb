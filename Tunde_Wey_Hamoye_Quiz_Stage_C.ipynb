{
 "cells": [
  {
   "cell_type": "code",
   "execution_count": 1,
   "id": "57b042c4",
   "metadata": {},
   "outputs": [],
   "source": [
    "import numpy as np\n",
    "import pandas as pd\n",
    "import seaborn as sns"
   ]
  },
  {
   "cell_type": "markdown",
   "id": "a910fe43",
   "metadata": {},
   "source": [
    "### Reading the data"
   ]
  },
  {
   "cell_type": "code",
   "execution_count": 2,
   "id": "a02885dd",
   "metadata": {},
   "outputs": [
    {
     "data": {
      "text/html": [
       "<div>\n",
       "<style scoped>\n",
       "    .dataframe tbody tr th:only-of-type {\n",
       "        vertical-align: middle;\n",
       "    }\n",
       "\n",
       "    .dataframe tbody tr th {\n",
       "        vertical-align: top;\n",
       "    }\n",
       "\n",
       "    .dataframe thead th {\n",
       "        text-align: right;\n",
       "    }\n",
       "</style>\n",
       "<table border=\"1\" class=\"dataframe\">\n",
       "  <thead>\n",
       "    <tr style=\"text-align: right;\">\n",
       "      <th></th>\n",
       "      <th>tau1</th>\n",
       "      <th>tau2</th>\n",
       "      <th>tau3</th>\n",
       "      <th>tau4</th>\n",
       "      <th>p1</th>\n",
       "      <th>p2</th>\n",
       "      <th>p3</th>\n",
       "      <th>p4</th>\n",
       "      <th>g1</th>\n",
       "      <th>g2</th>\n",
       "      <th>g3</th>\n",
       "      <th>g4</th>\n",
       "      <th>stab</th>\n",
       "      <th>stabf</th>\n",
       "    </tr>\n",
       "  </thead>\n",
       "  <tbody>\n",
       "    <tr>\n",
       "      <th>0</th>\n",
       "      <td>2.959060</td>\n",
       "      <td>3.079885</td>\n",
       "      <td>8.381025</td>\n",
       "      <td>9.780754</td>\n",
       "      <td>3.763085</td>\n",
       "      <td>-0.782604</td>\n",
       "      <td>-1.257395</td>\n",
       "      <td>-1.723086</td>\n",
       "      <td>0.650456</td>\n",
       "      <td>0.859578</td>\n",
       "      <td>0.887445</td>\n",
       "      <td>0.958034</td>\n",
       "      <td>0.055347</td>\n",
       "      <td>unstable</td>\n",
       "    </tr>\n",
       "    <tr>\n",
       "      <th>1</th>\n",
       "      <td>9.304097</td>\n",
       "      <td>4.902524</td>\n",
       "      <td>3.047541</td>\n",
       "      <td>1.369357</td>\n",
       "      <td>5.067812</td>\n",
       "      <td>-1.940058</td>\n",
       "      <td>-1.872742</td>\n",
       "      <td>-1.255012</td>\n",
       "      <td>0.413441</td>\n",
       "      <td>0.862414</td>\n",
       "      <td>0.562139</td>\n",
       "      <td>0.781760</td>\n",
       "      <td>-0.005957</td>\n",
       "      <td>stable</td>\n",
       "    </tr>\n",
       "    <tr>\n",
       "      <th>2</th>\n",
       "      <td>8.971707</td>\n",
       "      <td>8.848428</td>\n",
       "      <td>3.046479</td>\n",
       "      <td>1.214518</td>\n",
       "      <td>3.405158</td>\n",
       "      <td>-1.207456</td>\n",
       "      <td>-1.277210</td>\n",
       "      <td>-0.920492</td>\n",
       "      <td>0.163041</td>\n",
       "      <td>0.766689</td>\n",
       "      <td>0.839444</td>\n",
       "      <td>0.109853</td>\n",
       "      <td>0.003471</td>\n",
       "      <td>unstable</td>\n",
       "    </tr>\n",
       "    <tr>\n",
       "      <th>3</th>\n",
       "      <td>0.716415</td>\n",
       "      <td>7.669600</td>\n",
       "      <td>4.486641</td>\n",
       "      <td>2.340563</td>\n",
       "      <td>3.963791</td>\n",
       "      <td>-1.027473</td>\n",
       "      <td>-1.938944</td>\n",
       "      <td>-0.997374</td>\n",
       "      <td>0.446209</td>\n",
       "      <td>0.976744</td>\n",
       "      <td>0.929381</td>\n",
       "      <td>0.362718</td>\n",
       "      <td>0.028871</td>\n",
       "      <td>unstable</td>\n",
       "    </tr>\n",
       "    <tr>\n",
       "      <th>4</th>\n",
       "      <td>3.134112</td>\n",
       "      <td>7.608772</td>\n",
       "      <td>4.943759</td>\n",
       "      <td>9.857573</td>\n",
       "      <td>3.525811</td>\n",
       "      <td>-1.125531</td>\n",
       "      <td>-1.845975</td>\n",
       "      <td>-0.554305</td>\n",
       "      <td>0.797110</td>\n",
       "      <td>0.455450</td>\n",
       "      <td>0.656947</td>\n",
       "      <td>0.820923</td>\n",
       "      <td>0.049860</td>\n",
       "      <td>unstable</td>\n",
       "    </tr>\n",
       "  </tbody>\n",
       "</table>\n",
       "</div>"
      ],
      "text/plain": [
       "       tau1      tau2      tau3      tau4        p1        p2        p3  \\\n",
       "0  2.959060  3.079885  8.381025  9.780754  3.763085 -0.782604 -1.257395   \n",
       "1  9.304097  4.902524  3.047541  1.369357  5.067812 -1.940058 -1.872742   \n",
       "2  8.971707  8.848428  3.046479  1.214518  3.405158 -1.207456 -1.277210   \n",
       "3  0.716415  7.669600  4.486641  2.340563  3.963791 -1.027473 -1.938944   \n",
       "4  3.134112  7.608772  4.943759  9.857573  3.525811 -1.125531 -1.845975   \n",
       "\n",
       "         p4        g1        g2        g3        g4      stab     stabf  \n",
       "0 -1.723086  0.650456  0.859578  0.887445  0.958034  0.055347  unstable  \n",
       "1 -1.255012  0.413441  0.862414  0.562139  0.781760 -0.005957    stable  \n",
       "2 -0.920492  0.163041  0.766689  0.839444  0.109853  0.003471  unstable  \n",
       "3 -0.997374  0.446209  0.976744  0.929381  0.362718  0.028871  unstable  \n",
       "4 -0.554305  0.797110  0.455450  0.656947  0.820923  0.049860  unstable  "
      ]
     },
     "execution_count": 2,
     "metadata": {},
     "output_type": "execute_result"
    }
   ],
   "source": [
    "data = pd.read_csv('Data_for_UCI_named.csv')\n",
    "data.head()"
   ]
  },
  {
   "cell_type": "markdown",
   "id": "ec7ccaf2",
   "metadata": {},
   "source": [
    "### Checking the data size"
   ]
  },
  {
   "cell_type": "code",
   "execution_count": 3,
   "id": "4a36da15",
   "metadata": {},
   "outputs": [
    {
     "data": {
      "text/plain": [
       "(10000, 14)"
      ]
     },
     "execution_count": 3,
     "metadata": {},
     "output_type": "execute_result"
    }
   ],
   "source": [
    "data.shape"
   ]
  },
  {
   "cell_type": "markdown",
   "id": "5ee94e76",
   "metadata": {},
   "source": [
    "### Checking for missing values in data"
   ]
  },
  {
   "cell_type": "code",
   "execution_count": 4,
   "id": "6d8b0492",
   "metadata": {},
   "outputs": [
    {
     "data": {
      "text/plain": [
       "tau1     0\n",
       "tau2     0\n",
       "tau3     0\n",
       "tau4     0\n",
       "p1       0\n",
       "p2       0\n",
       "p3       0\n",
       "p4       0\n",
       "g1       0\n",
       "g2       0\n",
       "g3       0\n",
       "g4       0\n",
       "stab     0\n",
       "stabf    0\n",
       "dtype: int64"
      ]
     },
     "execution_count": 4,
     "metadata": {},
     "output_type": "execute_result"
    }
   ],
   "source": [
    "data.isnull().sum()"
   ]
  },
  {
   "cell_type": "markdown",
   "id": "9d684570",
   "metadata": {},
   "source": [
    "### Data Statistics"
   ]
  },
  {
   "cell_type": "code",
   "execution_count": 5,
   "id": "5ebd6e6b",
   "metadata": {},
   "outputs": [
    {
     "name": "stdout",
     "output_type": "stream",
     "text": [
      "<class 'pandas.core.frame.DataFrame'>\n",
      "RangeIndex: 10000 entries, 0 to 9999\n",
      "Data columns (total 14 columns):\n",
      " #   Column  Non-Null Count  Dtype  \n",
      "---  ------  --------------  -----  \n",
      " 0   tau1    10000 non-null  float64\n",
      " 1   tau2    10000 non-null  float64\n",
      " 2   tau3    10000 non-null  float64\n",
      " 3   tau4    10000 non-null  float64\n",
      " 4   p1      10000 non-null  float64\n",
      " 5   p2      10000 non-null  float64\n",
      " 6   p3      10000 non-null  float64\n",
      " 7   p4      10000 non-null  float64\n",
      " 8   g1      10000 non-null  float64\n",
      " 9   g2      10000 non-null  float64\n",
      " 10  g3      10000 non-null  float64\n",
      " 11  g4      10000 non-null  float64\n",
      " 12  stab    10000 non-null  float64\n",
      " 13  stabf   10000 non-null  object \n",
      "dtypes: float64(13), object(1)\n",
      "memory usage: 1.1+ MB\n"
     ]
    }
   ],
   "source": [
    "data.info()"
   ]
  },
  {
   "cell_type": "code",
   "execution_count": 6,
   "id": "ebddf625",
   "metadata": {},
   "outputs": [
    {
     "data": {
      "text/html": [
       "<div>\n",
       "<style scoped>\n",
       "    .dataframe tbody tr th:only-of-type {\n",
       "        vertical-align: middle;\n",
       "    }\n",
       "\n",
       "    .dataframe tbody tr th {\n",
       "        vertical-align: top;\n",
       "    }\n",
       "\n",
       "    .dataframe thead th {\n",
       "        text-align: right;\n",
       "    }\n",
       "</style>\n",
       "<table border=\"1\" class=\"dataframe\">\n",
       "  <thead>\n",
       "    <tr style=\"text-align: right;\">\n",
       "      <th></th>\n",
       "      <th>tau1</th>\n",
       "      <th>tau2</th>\n",
       "      <th>tau3</th>\n",
       "      <th>tau4</th>\n",
       "      <th>p1</th>\n",
       "      <th>p2</th>\n",
       "      <th>p3</th>\n",
       "      <th>p4</th>\n",
       "      <th>g1</th>\n",
       "      <th>g2</th>\n",
       "      <th>g3</th>\n",
       "      <th>g4</th>\n",
       "      <th>stab</th>\n",
       "    </tr>\n",
       "  </thead>\n",
       "  <tbody>\n",
       "    <tr>\n",
       "      <th>count</th>\n",
       "      <td>10000.000000</td>\n",
       "      <td>10000.000000</td>\n",
       "      <td>10000.000000</td>\n",
       "      <td>10000.000000</td>\n",
       "      <td>10000.000000</td>\n",
       "      <td>10000.000000</td>\n",
       "      <td>10000.000000</td>\n",
       "      <td>10000.000000</td>\n",
       "      <td>10000.000000</td>\n",
       "      <td>10000.000000</td>\n",
       "      <td>10000.000000</td>\n",
       "      <td>10000.000000</td>\n",
       "      <td>10000.000000</td>\n",
       "    </tr>\n",
       "    <tr>\n",
       "      <th>mean</th>\n",
       "      <td>5.250000</td>\n",
       "      <td>5.250001</td>\n",
       "      <td>5.250004</td>\n",
       "      <td>5.249997</td>\n",
       "      <td>3.750000</td>\n",
       "      <td>-1.250000</td>\n",
       "      <td>-1.250000</td>\n",
       "      <td>-1.250000</td>\n",
       "      <td>0.525000</td>\n",
       "      <td>0.525000</td>\n",
       "      <td>0.525000</td>\n",
       "      <td>0.525000</td>\n",
       "      <td>0.015731</td>\n",
       "    </tr>\n",
       "    <tr>\n",
       "      <th>std</th>\n",
       "      <td>2.742548</td>\n",
       "      <td>2.742549</td>\n",
       "      <td>2.742549</td>\n",
       "      <td>2.742556</td>\n",
       "      <td>0.752160</td>\n",
       "      <td>0.433035</td>\n",
       "      <td>0.433035</td>\n",
       "      <td>0.433035</td>\n",
       "      <td>0.274256</td>\n",
       "      <td>0.274255</td>\n",
       "      <td>0.274255</td>\n",
       "      <td>0.274255</td>\n",
       "      <td>0.036919</td>\n",
       "    </tr>\n",
       "    <tr>\n",
       "      <th>min</th>\n",
       "      <td>0.500793</td>\n",
       "      <td>0.500141</td>\n",
       "      <td>0.500788</td>\n",
       "      <td>0.500473</td>\n",
       "      <td>1.582590</td>\n",
       "      <td>-1.999891</td>\n",
       "      <td>-1.999945</td>\n",
       "      <td>-1.999926</td>\n",
       "      <td>0.050009</td>\n",
       "      <td>0.050053</td>\n",
       "      <td>0.050054</td>\n",
       "      <td>0.050028</td>\n",
       "      <td>-0.080760</td>\n",
       "    </tr>\n",
       "    <tr>\n",
       "      <th>25%</th>\n",
       "      <td>2.874892</td>\n",
       "      <td>2.875140</td>\n",
       "      <td>2.875522</td>\n",
       "      <td>2.874950</td>\n",
       "      <td>3.218300</td>\n",
       "      <td>-1.624901</td>\n",
       "      <td>-1.625025</td>\n",
       "      <td>-1.624960</td>\n",
       "      <td>0.287521</td>\n",
       "      <td>0.287552</td>\n",
       "      <td>0.287514</td>\n",
       "      <td>0.287494</td>\n",
       "      <td>-0.015557</td>\n",
       "    </tr>\n",
       "    <tr>\n",
       "      <th>50%</th>\n",
       "      <td>5.250004</td>\n",
       "      <td>5.249981</td>\n",
       "      <td>5.249979</td>\n",
       "      <td>5.249734</td>\n",
       "      <td>3.751025</td>\n",
       "      <td>-1.249966</td>\n",
       "      <td>-1.249974</td>\n",
       "      <td>-1.250007</td>\n",
       "      <td>0.525009</td>\n",
       "      <td>0.525003</td>\n",
       "      <td>0.525015</td>\n",
       "      <td>0.525002</td>\n",
       "      <td>0.017142</td>\n",
       "    </tr>\n",
       "    <tr>\n",
       "      <th>75%</th>\n",
       "      <td>7.624690</td>\n",
       "      <td>7.624893</td>\n",
       "      <td>7.624948</td>\n",
       "      <td>7.624838</td>\n",
       "      <td>4.282420</td>\n",
       "      <td>-0.874977</td>\n",
       "      <td>-0.875043</td>\n",
       "      <td>-0.875065</td>\n",
       "      <td>0.762435</td>\n",
       "      <td>0.762490</td>\n",
       "      <td>0.762440</td>\n",
       "      <td>0.762433</td>\n",
       "      <td>0.044878</td>\n",
       "    </tr>\n",
       "    <tr>\n",
       "      <th>max</th>\n",
       "      <td>9.999469</td>\n",
       "      <td>9.999837</td>\n",
       "      <td>9.999450</td>\n",
       "      <td>9.999443</td>\n",
       "      <td>5.864418</td>\n",
       "      <td>-0.500108</td>\n",
       "      <td>-0.500072</td>\n",
       "      <td>-0.500025</td>\n",
       "      <td>0.999937</td>\n",
       "      <td>0.999944</td>\n",
       "      <td>0.999982</td>\n",
       "      <td>0.999930</td>\n",
       "      <td>0.109403</td>\n",
       "    </tr>\n",
       "  </tbody>\n",
       "</table>\n",
       "</div>"
      ],
      "text/plain": [
       "               tau1          tau2          tau3          tau4            p1  \\\n",
       "count  10000.000000  10000.000000  10000.000000  10000.000000  10000.000000   \n",
       "mean       5.250000      5.250001      5.250004      5.249997      3.750000   \n",
       "std        2.742548      2.742549      2.742549      2.742556      0.752160   \n",
       "min        0.500793      0.500141      0.500788      0.500473      1.582590   \n",
       "25%        2.874892      2.875140      2.875522      2.874950      3.218300   \n",
       "50%        5.250004      5.249981      5.249979      5.249734      3.751025   \n",
       "75%        7.624690      7.624893      7.624948      7.624838      4.282420   \n",
       "max        9.999469      9.999837      9.999450      9.999443      5.864418   \n",
       "\n",
       "                 p2            p3            p4            g1            g2  \\\n",
       "count  10000.000000  10000.000000  10000.000000  10000.000000  10000.000000   \n",
       "mean      -1.250000     -1.250000     -1.250000      0.525000      0.525000   \n",
       "std        0.433035      0.433035      0.433035      0.274256      0.274255   \n",
       "min       -1.999891     -1.999945     -1.999926      0.050009      0.050053   \n",
       "25%       -1.624901     -1.625025     -1.624960      0.287521      0.287552   \n",
       "50%       -1.249966     -1.249974     -1.250007      0.525009      0.525003   \n",
       "75%       -0.874977     -0.875043     -0.875065      0.762435      0.762490   \n",
       "max       -0.500108     -0.500072     -0.500025      0.999937      0.999944   \n",
       "\n",
       "                 g3            g4          stab  \n",
       "count  10000.000000  10000.000000  10000.000000  \n",
       "mean       0.525000      0.525000      0.015731  \n",
       "std        0.274255      0.274255      0.036919  \n",
       "min        0.050054      0.050028     -0.080760  \n",
       "25%        0.287514      0.287494     -0.015557  \n",
       "50%        0.525015      0.525002      0.017142  \n",
       "75%        0.762440      0.762433      0.044878  \n",
       "max        0.999982      0.999930      0.109403  "
      ]
     },
     "execution_count": 6,
     "metadata": {},
     "output_type": "execute_result"
    }
   ],
   "source": [
    "data.describe()"
   ]
  },
  {
   "cell_type": "code",
   "execution_count": 7,
   "id": "a8108a9d",
   "metadata": {},
   "outputs": [
    {
     "data": {
      "text/html": [
       "<div>\n",
       "<style scoped>\n",
       "    .dataframe tbody tr th:only-of-type {\n",
       "        vertical-align: middle;\n",
       "    }\n",
       "\n",
       "    .dataframe tbody tr th {\n",
       "        vertical-align: top;\n",
       "    }\n",
       "\n",
       "    .dataframe thead th {\n",
       "        text-align: right;\n",
       "    }\n",
       "</style>\n",
       "<table border=\"1\" class=\"dataframe\">\n",
       "  <thead>\n",
       "    <tr style=\"text-align: right;\">\n",
       "      <th></th>\n",
       "      <th>tau1</th>\n",
       "      <th>tau2</th>\n",
       "      <th>tau3</th>\n",
       "      <th>tau4</th>\n",
       "      <th>p1</th>\n",
       "      <th>p2</th>\n",
       "      <th>p3</th>\n",
       "      <th>p4</th>\n",
       "      <th>g1</th>\n",
       "      <th>g2</th>\n",
       "      <th>g3</th>\n",
       "      <th>g4</th>\n",
       "      <th>stab</th>\n",
       "    </tr>\n",
       "  </thead>\n",
       "  <tbody>\n",
       "    <tr>\n",
       "      <th>tau1</th>\n",
       "      <td>1.000000</td>\n",
       "      <td>0.015586</td>\n",
       "      <td>-0.005970</td>\n",
       "      <td>-0.017265</td>\n",
       "      <td>0.027183</td>\n",
       "      <td>-0.015485</td>\n",
       "      <td>-0.015924</td>\n",
       "      <td>-0.015807</td>\n",
       "      <td>0.010521</td>\n",
       "      <td>0.015350</td>\n",
       "      <td>-0.001279</td>\n",
       "      <td>0.005494</td>\n",
       "      <td>0.275761</td>\n",
       "    </tr>\n",
       "    <tr>\n",
       "      <th>tau2</th>\n",
       "      <td>0.015586</td>\n",
       "      <td>1.000000</td>\n",
       "      <td>0.014273</td>\n",
       "      <td>-0.001965</td>\n",
       "      <td>-0.004769</td>\n",
       "      <td>0.006573</td>\n",
       "      <td>0.007673</td>\n",
       "      <td>-0.005963</td>\n",
       "      <td>-0.001742</td>\n",
       "      <td>0.015383</td>\n",
       "      <td>0.016508</td>\n",
       "      <td>-0.011764</td>\n",
       "      <td>0.290975</td>\n",
       "    </tr>\n",
       "    <tr>\n",
       "      <th>tau3</th>\n",
       "      <td>-0.005970</td>\n",
       "      <td>0.014273</td>\n",
       "      <td>1.000000</td>\n",
       "      <td>0.004354</td>\n",
       "      <td>0.016953</td>\n",
       "      <td>-0.003134</td>\n",
       "      <td>-0.008780</td>\n",
       "      <td>-0.017531</td>\n",
       "      <td>-0.011605</td>\n",
       "      <td>0.007671</td>\n",
       "      <td>0.014702</td>\n",
       "      <td>-0.011497</td>\n",
       "      <td>0.280700</td>\n",
       "    </tr>\n",
       "    <tr>\n",
       "      <th>tau4</th>\n",
       "      <td>-0.017265</td>\n",
       "      <td>-0.001965</td>\n",
       "      <td>0.004354</td>\n",
       "      <td>1.000000</td>\n",
       "      <td>-0.003173</td>\n",
       "      <td>0.010553</td>\n",
       "      <td>0.006169</td>\n",
       "      <td>-0.011211</td>\n",
       "      <td>-0.004149</td>\n",
       "      <td>0.008431</td>\n",
       "      <td>0.003260</td>\n",
       "      <td>-0.000491</td>\n",
       "      <td>0.278576</td>\n",
       "    </tr>\n",
       "    <tr>\n",
       "      <th>p1</th>\n",
       "      <td>0.027183</td>\n",
       "      <td>-0.004769</td>\n",
       "      <td>0.016953</td>\n",
       "      <td>-0.003173</td>\n",
       "      <td>1.000000</td>\n",
       "      <td>-0.573157</td>\n",
       "      <td>-0.584554</td>\n",
       "      <td>-0.579239</td>\n",
       "      <td>0.000721</td>\n",
       "      <td>0.015405</td>\n",
       "      <td>0.001069</td>\n",
       "      <td>-0.015451</td>\n",
       "      <td>0.010278</td>\n",
       "    </tr>\n",
       "    <tr>\n",
       "      <th>p2</th>\n",
       "      <td>-0.015485</td>\n",
       "      <td>0.006573</td>\n",
       "      <td>-0.003134</td>\n",
       "      <td>0.010553</td>\n",
       "      <td>-0.573157</td>\n",
       "      <td>1.000000</td>\n",
       "      <td>0.002388</td>\n",
       "      <td>-0.006844</td>\n",
       "      <td>0.015603</td>\n",
       "      <td>-0.018032</td>\n",
       "      <td>0.007555</td>\n",
       "      <td>0.019817</td>\n",
       "      <td>0.006255</td>\n",
       "    </tr>\n",
       "    <tr>\n",
       "      <th>p3</th>\n",
       "      <td>-0.015924</td>\n",
       "      <td>0.007673</td>\n",
       "      <td>-0.008780</td>\n",
       "      <td>0.006169</td>\n",
       "      <td>-0.584554</td>\n",
       "      <td>0.002388</td>\n",
       "      <td>1.000000</td>\n",
       "      <td>0.012953</td>\n",
       "      <td>-0.003219</td>\n",
       "      <td>-0.011575</td>\n",
       "      <td>-0.005897</td>\n",
       "      <td>-0.010485</td>\n",
       "      <td>-0.003321</td>\n",
       "    </tr>\n",
       "    <tr>\n",
       "      <th>p4</th>\n",
       "      <td>-0.015807</td>\n",
       "      <td>-0.005963</td>\n",
       "      <td>-0.017531</td>\n",
       "      <td>-0.011211</td>\n",
       "      <td>-0.579239</td>\n",
       "      <td>-0.006844</td>\n",
       "      <td>0.012953</td>\n",
       "      <td>1.000000</td>\n",
       "      <td>-0.013636</td>\n",
       "      <td>0.002850</td>\n",
       "      <td>-0.003515</td>\n",
       "      <td>0.017505</td>\n",
       "      <td>-0.020786</td>\n",
       "    </tr>\n",
       "    <tr>\n",
       "      <th>g1</th>\n",
       "      <td>0.010521</td>\n",
       "      <td>-0.001742</td>\n",
       "      <td>-0.011605</td>\n",
       "      <td>-0.004149</td>\n",
       "      <td>0.000721</td>\n",
       "      <td>0.015603</td>\n",
       "      <td>-0.003219</td>\n",
       "      <td>-0.013636</td>\n",
       "      <td>1.000000</td>\n",
       "      <td>0.007559</td>\n",
       "      <td>-0.005836</td>\n",
       "      <td>0.012431</td>\n",
       "      <td>0.282774</td>\n",
       "    </tr>\n",
       "    <tr>\n",
       "      <th>g2</th>\n",
       "      <td>0.015350</td>\n",
       "      <td>0.015383</td>\n",
       "      <td>0.007671</td>\n",
       "      <td>0.008431</td>\n",
       "      <td>0.015405</td>\n",
       "      <td>-0.018032</td>\n",
       "      <td>-0.011575</td>\n",
       "      <td>0.002850</td>\n",
       "      <td>0.007559</td>\n",
       "      <td>1.000000</td>\n",
       "      <td>-0.012809</td>\n",
       "      <td>-0.014909</td>\n",
       "      <td>0.293601</td>\n",
       "    </tr>\n",
       "    <tr>\n",
       "      <th>g3</th>\n",
       "      <td>-0.001279</td>\n",
       "      <td>0.016508</td>\n",
       "      <td>0.014702</td>\n",
       "      <td>0.003260</td>\n",
       "      <td>0.001069</td>\n",
       "      <td>0.007555</td>\n",
       "      <td>-0.005897</td>\n",
       "      <td>-0.003515</td>\n",
       "      <td>-0.005836</td>\n",
       "      <td>-0.012809</td>\n",
       "      <td>1.000000</td>\n",
       "      <td>0.006900</td>\n",
       "      <td>0.308235</td>\n",
       "    </tr>\n",
       "    <tr>\n",
       "      <th>g4</th>\n",
       "      <td>0.005494</td>\n",
       "      <td>-0.011764</td>\n",
       "      <td>-0.011497</td>\n",
       "      <td>-0.000491</td>\n",
       "      <td>-0.015451</td>\n",
       "      <td>0.019817</td>\n",
       "      <td>-0.010485</td>\n",
       "      <td>0.017505</td>\n",
       "      <td>0.012431</td>\n",
       "      <td>-0.014909</td>\n",
       "      <td>0.006900</td>\n",
       "      <td>1.000000</td>\n",
       "      <td>0.279214</td>\n",
       "    </tr>\n",
       "    <tr>\n",
       "      <th>stab</th>\n",
       "      <td>0.275761</td>\n",
       "      <td>0.290975</td>\n",
       "      <td>0.280700</td>\n",
       "      <td>0.278576</td>\n",
       "      <td>0.010278</td>\n",
       "      <td>0.006255</td>\n",
       "      <td>-0.003321</td>\n",
       "      <td>-0.020786</td>\n",
       "      <td>0.282774</td>\n",
       "      <td>0.293601</td>\n",
       "      <td>0.308235</td>\n",
       "      <td>0.279214</td>\n",
       "      <td>1.000000</td>\n",
       "    </tr>\n",
       "  </tbody>\n",
       "</table>\n",
       "</div>"
      ],
      "text/plain": [
       "          tau1      tau2      tau3      tau4        p1        p2        p3  \\\n",
       "tau1  1.000000  0.015586 -0.005970 -0.017265  0.027183 -0.015485 -0.015924   \n",
       "tau2  0.015586  1.000000  0.014273 -0.001965 -0.004769  0.006573  0.007673   \n",
       "tau3 -0.005970  0.014273  1.000000  0.004354  0.016953 -0.003134 -0.008780   \n",
       "tau4 -0.017265 -0.001965  0.004354  1.000000 -0.003173  0.010553  0.006169   \n",
       "p1    0.027183 -0.004769  0.016953 -0.003173  1.000000 -0.573157 -0.584554   \n",
       "p2   -0.015485  0.006573 -0.003134  0.010553 -0.573157  1.000000  0.002388   \n",
       "p3   -0.015924  0.007673 -0.008780  0.006169 -0.584554  0.002388  1.000000   \n",
       "p4   -0.015807 -0.005963 -0.017531 -0.011211 -0.579239 -0.006844  0.012953   \n",
       "g1    0.010521 -0.001742 -0.011605 -0.004149  0.000721  0.015603 -0.003219   \n",
       "g2    0.015350  0.015383  0.007671  0.008431  0.015405 -0.018032 -0.011575   \n",
       "g3   -0.001279  0.016508  0.014702  0.003260  0.001069  0.007555 -0.005897   \n",
       "g4    0.005494 -0.011764 -0.011497 -0.000491 -0.015451  0.019817 -0.010485   \n",
       "stab  0.275761  0.290975  0.280700  0.278576  0.010278  0.006255 -0.003321   \n",
       "\n",
       "            p4        g1        g2        g3        g4      stab  \n",
       "tau1 -0.015807  0.010521  0.015350 -0.001279  0.005494  0.275761  \n",
       "tau2 -0.005963 -0.001742  0.015383  0.016508 -0.011764  0.290975  \n",
       "tau3 -0.017531 -0.011605  0.007671  0.014702 -0.011497  0.280700  \n",
       "tau4 -0.011211 -0.004149  0.008431  0.003260 -0.000491  0.278576  \n",
       "p1   -0.579239  0.000721  0.015405  0.001069 -0.015451  0.010278  \n",
       "p2   -0.006844  0.015603 -0.018032  0.007555  0.019817  0.006255  \n",
       "p3    0.012953 -0.003219 -0.011575 -0.005897 -0.010485 -0.003321  \n",
       "p4    1.000000 -0.013636  0.002850 -0.003515  0.017505 -0.020786  \n",
       "g1   -0.013636  1.000000  0.007559 -0.005836  0.012431  0.282774  \n",
       "g2    0.002850  0.007559  1.000000 -0.012809 -0.014909  0.293601  \n",
       "g3   -0.003515 -0.005836 -0.012809  1.000000  0.006900  0.308235  \n",
       "g4    0.017505  0.012431 -0.014909  0.006900  1.000000  0.279214  \n",
       "stab -0.020786  0.282774  0.293601  0.308235  0.279214  1.000000  "
      ]
     },
     "execution_count": 7,
     "metadata": {},
     "output_type": "execute_result"
    }
   ],
   "source": [
    "data.corr()"
   ]
  },
  {
   "cell_type": "code",
   "execution_count": 8,
   "id": "1c205a19",
   "metadata": {},
   "outputs": [
    {
     "data": {
      "text/plain": [
       "unstable    6380\n",
       "stable      3620\n",
       "Name: stabf, dtype: int64"
      ]
     },
     "execution_count": 8,
     "metadata": {},
     "output_type": "execute_result"
    }
   ],
   "source": [
    "data.stabf.value_counts()"
   ]
  },
  {
   "cell_type": "code",
   "execution_count": 9,
   "id": "a831a63b",
   "metadata": {},
   "outputs": [
    {
     "data": {
      "text/plain": [
       "array(['unstable', 'stable'], dtype=object)"
      ]
     },
     "execution_count": 9,
     "metadata": {},
     "output_type": "execute_result"
    }
   ],
   "source": [
    "data.stabf.unique()"
   ]
  },
  {
   "cell_type": "markdown",
   "id": "83eba932",
   "metadata": {},
   "source": [
    "## Data Preprocessing"
   ]
  },
  {
   "cell_type": "markdown",
   "id": "c3cc2f9f",
   "metadata": {},
   "source": [
    "### Dropping irrelevant data as requested in task"
   ]
  },
  {
   "cell_type": "code",
   "execution_count": 10,
   "id": "cff2b4d4",
   "metadata": {},
   "outputs": [],
   "source": [
    "data = data.drop(columns=['stab'])"
   ]
  },
  {
   "cell_type": "markdown",
   "id": "43b252a1",
   "metadata": {},
   "source": [
    "### Seperating predictor features from target"
   ]
  },
  {
   "cell_type": "code",
   "execution_count": 11,
   "id": "e8dc00a1",
   "metadata": {},
   "outputs": [],
   "source": [
    "X = data.drop(columns =['stabf'])\n",
    "y = data.stabf"
   ]
  },
  {
   "cell_type": "markdown",
   "id": "814f825c",
   "metadata": {},
   "source": [
    "### Label Encoding the target (categorical) to numerical"
   ]
  },
  {
   "cell_type": "code",
   "execution_count": 12,
   "id": "1991b3e6",
   "metadata": {},
   "outputs": [],
   "source": [
    "from sklearn.preprocessing import LabelEncoder"
   ]
  },
  {
   "cell_type": "code",
   "execution_count": 13,
   "id": "d4241d97",
   "metadata": {},
   "outputs": [],
   "source": [
    "# encoder = LabelEncoder()\n",
    "# y = pd.DataFrame(encoder.fit_transform(y.reset_index(drop=True)))"
   ]
  },
  {
   "cell_type": "code",
   "execution_count": 14,
   "id": "2198292b",
   "metadata": {},
   "outputs": [],
   "source": [
    "# #label encoding for the categorical data of column 'stabf'\n",
    "# from sklearn.preprocessing import LabelEncoder\n",
    "# encoder = LabelEncoder()\n",
    "# y_train =pd.DataFrame(encoder.fit_transform(y_train.reset_index(drop=True)), columns=y_train.columns)\n",
    "# y_test = pd.DataFrame(encoder.transform(y_test.reset_index(drop=True)),columns=y_test.columns) "
   ]
  },
  {
   "cell_type": "code",
   "execution_count": 15,
   "id": "19de150c",
   "metadata": {},
   "outputs": [],
   "source": [
    "# y.head(10)"
   ]
  },
  {
   "cell_type": "code",
   "execution_count": 16,
   "id": "14c29d0b",
   "metadata": {},
   "outputs": [
    {
     "data": {
      "text/html": [
       "<div>\n",
       "<style scoped>\n",
       "    .dataframe tbody tr th:only-of-type {\n",
       "        vertical-align: middle;\n",
       "    }\n",
       "\n",
       "    .dataframe tbody tr th {\n",
       "        vertical-align: top;\n",
       "    }\n",
       "\n",
       "    .dataframe thead th {\n",
       "        text-align: right;\n",
       "    }\n",
       "</style>\n",
       "<table border=\"1\" class=\"dataframe\">\n",
       "  <thead>\n",
       "    <tr style=\"text-align: right;\">\n",
       "      <th></th>\n",
       "      <th>tau1</th>\n",
       "      <th>tau2</th>\n",
       "      <th>tau3</th>\n",
       "      <th>tau4</th>\n",
       "      <th>p1</th>\n",
       "      <th>p2</th>\n",
       "      <th>p3</th>\n",
       "      <th>p4</th>\n",
       "      <th>g1</th>\n",
       "      <th>g2</th>\n",
       "      <th>g3</th>\n",
       "      <th>g4</th>\n",
       "      <th>stabf</th>\n",
       "    </tr>\n",
       "  </thead>\n",
       "  <tbody>\n",
       "    <tr>\n",
       "      <th>0</th>\n",
       "      <td>2.959060</td>\n",
       "      <td>3.079885</td>\n",
       "      <td>8.381025</td>\n",
       "      <td>9.780754</td>\n",
       "      <td>3.763085</td>\n",
       "      <td>-0.782604</td>\n",
       "      <td>-1.257395</td>\n",
       "      <td>-1.723086</td>\n",
       "      <td>0.650456</td>\n",
       "      <td>0.859578</td>\n",
       "      <td>0.887445</td>\n",
       "      <td>0.958034</td>\n",
       "      <td>unstable</td>\n",
       "    </tr>\n",
       "    <tr>\n",
       "      <th>1</th>\n",
       "      <td>9.304097</td>\n",
       "      <td>4.902524</td>\n",
       "      <td>3.047541</td>\n",
       "      <td>1.369357</td>\n",
       "      <td>5.067812</td>\n",
       "      <td>-1.940058</td>\n",
       "      <td>-1.872742</td>\n",
       "      <td>-1.255012</td>\n",
       "      <td>0.413441</td>\n",
       "      <td>0.862414</td>\n",
       "      <td>0.562139</td>\n",
       "      <td>0.781760</td>\n",
       "      <td>stable</td>\n",
       "    </tr>\n",
       "    <tr>\n",
       "      <th>2</th>\n",
       "      <td>8.971707</td>\n",
       "      <td>8.848428</td>\n",
       "      <td>3.046479</td>\n",
       "      <td>1.214518</td>\n",
       "      <td>3.405158</td>\n",
       "      <td>-1.207456</td>\n",
       "      <td>-1.277210</td>\n",
       "      <td>-0.920492</td>\n",
       "      <td>0.163041</td>\n",
       "      <td>0.766689</td>\n",
       "      <td>0.839444</td>\n",
       "      <td>0.109853</td>\n",
       "      <td>unstable</td>\n",
       "    </tr>\n",
       "    <tr>\n",
       "      <th>3</th>\n",
       "      <td>0.716415</td>\n",
       "      <td>7.669600</td>\n",
       "      <td>4.486641</td>\n",
       "      <td>2.340563</td>\n",
       "      <td>3.963791</td>\n",
       "      <td>-1.027473</td>\n",
       "      <td>-1.938944</td>\n",
       "      <td>-0.997374</td>\n",
       "      <td>0.446209</td>\n",
       "      <td>0.976744</td>\n",
       "      <td>0.929381</td>\n",
       "      <td>0.362718</td>\n",
       "      <td>unstable</td>\n",
       "    </tr>\n",
       "    <tr>\n",
       "      <th>4</th>\n",
       "      <td>3.134112</td>\n",
       "      <td>7.608772</td>\n",
       "      <td>4.943759</td>\n",
       "      <td>9.857573</td>\n",
       "      <td>3.525811</td>\n",
       "      <td>-1.125531</td>\n",
       "      <td>-1.845975</td>\n",
       "      <td>-0.554305</td>\n",
       "      <td>0.797110</td>\n",
       "      <td>0.455450</td>\n",
       "      <td>0.656947</td>\n",
       "      <td>0.820923</td>\n",
       "      <td>unstable</td>\n",
       "    </tr>\n",
       "    <tr>\n",
       "      <th>5</th>\n",
       "      <td>6.999209</td>\n",
       "      <td>9.109247</td>\n",
       "      <td>3.784066</td>\n",
       "      <td>4.267788</td>\n",
       "      <td>4.429669</td>\n",
       "      <td>-1.857139</td>\n",
       "      <td>-0.670397</td>\n",
       "      <td>-1.902133</td>\n",
       "      <td>0.261793</td>\n",
       "      <td>0.077930</td>\n",
       "      <td>0.542884</td>\n",
       "      <td>0.469931</td>\n",
       "      <td>stable</td>\n",
       "    </tr>\n",
       "    <tr>\n",
       "      <th>6</th>\n",
       "      <td>6.710166</td>\n",
       "      <td>3.765204</td>\n",
       "      <td>6.929314</td>\n",
       "      <td>8.818562</td>\n",
       "      <td>2.397419</td>\n",
       "      <td>-0.614590</td>\n",
       "      <td>-1.208826</td>\n",
       "      <td>-0.574004</td>\n",
       "      <td>0.177890</td>\n",
       "      <td>0.397977</td>\n",
       "      <td>0.402046</td>\n",
       "      <td>0.376630</td>\n",
       "      <td>unstable</td>\n",
       "    </tr>\n",
       "    <tr>\n",
       "      <th>7</th>\n",
       "      <td>6.953512</td>\n",
       "      <td>1.379125</td>\n",
       "      <td>5.719400</td>\n",
       "      <td>7.870307</td>\n",
       "      <td>3.224495</td>\n",
       "      <td>-0.748998</td>\n",
       "      <td>-1.186517</td>\n",
       "      <td>-1.288980</td>\n",
       "      <td>0.371385</td>\n",
       "      <td>0.633204</td>\n",
       "      <td>0.732741</td>\n",
       "      <td>0.380544</td>\n",
       "      <td>unstable</td>\n",
       "    </tr>\n",
       "    <tr>\n",
       "      <th>8</th>\n",
       "      <td>4.689852</td>\n",
       "      <td>4.007747</td>\n",
       "      <td>1.478573</td>\n",
       "      <td>3.733787</td>\n",
       "      <td>4.041300</td>\n",
       "      <td>-1.410344</td>\n",
       "      <td>-1.238204</td>\n",
       "      <td>-1.392751</td>\n",
       "      <td>0.269708</td>\n",
       "      <td>0.250364</td>\n",
       "      <td>0.164941</td>\n",
       "      <td>0.482439</td>\n",
       "      <td>stable</td>\n",
       "    </tr>\n",
       "    <tr>\n",
       "      <th>9</th>\n",
       "      <td>9.841496</td>\n",
       "      <td>1.413822</td>\n",
       "      <td>9.769856</td>\n",
       "      <td>7.641616</td>\n",
       "      <td>4.727595</td>\n",
       "      <td>-1.991363</td>\n",
       "      <td>-0.857637</td>\n",
       "      <td>-1.878594</td>\n",
       "      <td>0.376356</td>\n",
       "      <td>0.544415</td>\n",
       "      <td>0.792039</td>\n",
       "      <td>0.116263</td>\n",
       "      <td>unstable</td>\n",
       "    </tr>\n",
       "  </tbody>\n",
       "</table>\n",
       "</div>"
      ],
      "text/plain": [
       "       tau1      tau2      tau3      tau4        p1        p2        p3  \\\n",
       "0  2.959060  3.079885  8.381025  9.780754  3.763085 -0.782604 -1.257395   \n",
       "1  9.304097  4.902524  3.047541  1.369357  5.067812 -1.940058 -1.872742   \n",
       "2  8.971707  8.848428  3.046479  1.214518  3.405158 -1.207456 -1.277210   \n",
       "3  0.716415  7.669600  4.486641  2.340563  3.963791 -1.027473 -1.938944   \n",
       "4  3.134112  7.608772  4.943759  9.857573  3.525811 -1.125531 -1.845975   \n",
       "5  6.999209  9.109247  3.784066  4.267788  4.429669 -1.857139 -0.670397   \n",
       "6  6.710166  3.765204  6.929314  8.818562  2.397419 -0.614590 -1.208826   \n",
       "7  6.953512  1.379125  5.719400  7.870307  3.224495 -0.748998 -1.186517   \n",
       "8  4.689852  4.007747  1.478573  3.733787  4.041300 -1.410344 -1.238204   \n",
       "9  9.841496  1.413822  9.769856  7.641616  4.727595 -1.991363 -0.857637   \n",
       "\n",
       "         p4        g1        g2        g3        g4     stabf  \n",
       "0 -1.723086  0.650456  0.859578  0.887445  0.958034  unstable  \n",
       "1 -1.255012  0.413441  0.862414  0.562139  0.781760    stable  \n",
       "2 -0.920492  0.163041  0.766689  0.839444  0.109853  unstable  \n",
       "3 -0.997374  0.446209  0.976744  0.929381  0.362718  unstable  \n",
       "4 -0.554305  0.797110  0.455450  0.656947  0.820923  unstable  \n",
       "5 -1.902133  0.261793  0.077930  0.542884  0.469931    stable  \n",
       "6 -0.574004  0.177890  0.397977  0.402046  0.376630  unstable  \n",
       "7 -1.288980  0.371385  0.633204  0.732741  0.380544  unstable  \n",
       "8 -1.392751  0.269708  0.250364  0.164941  0.482439    stable  \n",
       "9 -1.878594  0.376356  0.544415  0.792039  0.116263  unstable  "
      ]
     },
     "execution_count": 16,
     "metadata": {},
     "output_type": "execute_result"
    }
   ],
   "source": [
    "data.head(10)"
   ]
  },
  {
   "cell_type": "markdown",
   "id": "95dfd465",
   "metadata": {},
   "source": [
    "### Splitting the predictor features and response into train and test sets"
   ]
  },
  {
   "cell_type": "code",
   "execution_count": 17,
   "id": "728dc388",
   "metadata": {},
   "outputs": [],
   "source": [
    "from sklearn.model_selection import train_test_split\n",
    "\n",
    "X_train, X_test, y_train, y_test = train_test_split(X, y, train_size=0.8, random_state=1)"
   ]
  },
  {
   "cell_type": "code",
   "execution_count": 18,
   "id": "f3da1b52",
   "metadata": {},
   "outputs": [],
   "source": [
    "#label encoding for the categorical data of column 'stabf'\n",
    "from sklearn.preprocessing import LabelEncoder\n",
    "encoder = LabelEncoder()\n",
    "y_train =pd.DataFrame(encoder.fit_transform(y_train.reset_index(drop=True)))\n",
    "y_test = pd.DataFrame(encoder.transform(y_test.reset_index(drop=True))) "
   ]
  },
  {
   "cell_type": "code",
   "execution_count": 19,
   "id": "35bc941f",
   "metadata": {},
   "outputs": [
    {
     "data": {
      "text/plain": [
       "1    5092\n",
       "0    2908\n",
       "dtype: int64"
      ]
     },
     "execution_count": 19,
     "metadata": {},
     "output_type": "execute_result"
    }
   ],
   "source": [
    "y_train.value_counts()"
   ]
  },
  {
   "cell_type": "code",
   "execution_count": 20,
   "id": "a6ab1fc3",
   "metadata": {},
   "outputs": [
    {
     "data": {
      "text/plain": [
       "1    1288\n",
       "0     712\n",
       "dtype: int64"
      ]
     },
     "execution_count": 20,
     "metadata": {},
     "output_type": "execute_result"
    }
   ],
   "source": [
    "y_test.value_counts()"
   ]
  },
  {
   "cell_type": "code",
   "execution_count": 21,
   "id": "594c91ee",
   "metadata": {},
   "outputs": [],
   "source": [
    "# X_train.value_counts()"
   ]
  },
  {
   "cell_type": "code",
   "execution_count": 22,
   "id": "be3327c8",
   "metadata": {},
   "outputs": [],
   "source": [
    "# X_test.value_counts()"
   ]
  },
  {
   "cell_type": "markdown",
   "id": "d1f2609d",
   "metadata": {},
   "source": [
    "### Standardizing the X_train and X_test data"
   ]
  },
  {
   "cell_type": "code",
   "execution_count": 23,
   "id": "2ffeba72",
   "metadata": {},
   "outputs": [],
   "source": [
    "from sklearn.preprocessing import StandardScaler\n",
    "\n",
    "scaler = StandardScaler()\n",
    "scaled_X_train=pd.DataFrame(scaler.fit_transform(X_train), columns=X_train.columns)\n",
    "scaled_X_test=pd.DataFrame(scaler.transform(X_test), columns=X_test.columns)"
   ]
  },
  {
   "cell_type": "code",
   "execution_count": 24,
   "id": "0303bfd8",
   "metadata": {},
   "outputs": [
    {
     "data": {
      "text/html": [
       "<div>\n",
       "<style scoped>\n",
       "    .dataframe tbody tr th:only-of-type {\n",
       "        vertical-align: middle;\n",
       "    }\n",
       "\n",
       "    .dataframe tbody tr th {\n",
       "        vertical-align: top;\n",
       "    }\n",
       "\n",
       "    .dataframe thead th {\n",
       "        text-align: right;\n",
       "    }\n",
       "</style>\n",
       "<table border=\"1\" class=\"dataframe\">\n",
       "  <thead>\n",
       "    <tr style=\"text-align: right;\">\n",
       "      <th></th>\n",
       "      <th>tau1</th>\n",
       "      <th>tau2</th>\n",
       "      <th>tau3</th>\n",
       "      <th>tau4</th>\n",
       "      <th>p1</th>\n",
       "      <th>p2</th>\n",
       "      <th>p3</th>\n",
       "      <th>p4</th>\n",
       "      <th>g1</th>\n",
       "      <th>g2</th>\n",
       "      <th>g3</th>\n",
       "      <th>g4</th>\n",
       "    </tr>\n",
       "  </thead>\n",
       "  <tbody>\n",
       "    <tr>\n",
       "      <th>0</th>\n",
       "      <td>0.367327</td>\n",
       "      <td>-0.986042</td>\n",
       "      <td>0.650447</td>\n",
       "      <td>1.547527</td>\n",
       "      <td>-0.291490</td>\n",
       "      <td>0.061535</td>\n",
       "      <td>1.293862</td>\n",
       "      <td>-0.845074</td>\n",
       "      <td>0.160918</td>\n",
       "      <td>0.339859</td>\n",
       "      <td>0.585568</td>\n",
       "      <td>0.492239</td>\n",
       "    </tr>\n",
       "    <tr>\n",
       "      <th>1</th>\n",
       "      <td>-0.064659</td>\n",
       "      <td>0.089437</td>\n",
       "      <td>1.035079</td>\n",
       "      <td>-1.641494</td>\n",
       "      <td>0.619865</td>\n",
       "      <td>-0.067235</td>\n",
       "      <td>-1.502925</td>\n",
       "      <td>0.486613</td>\n",
       "      <td>-0.293143</td>\n",
       "      <td>-1.558488</td>\n",
       "      <td>1.429649</td>\n",
       "      <td>-1.443521</td>\n",
       "    </tr>\n",
       "    <tr>\n",
       "      <th>2</th>\n",
       "      <td>-1.467850</td>\n",
       "      <td>1.298418</td>\n",
       "      <td>-0.502536</td>\n",
       "      <td>1.166046</td>\n",
       "      <td>-0.180521</td>\n",
       "      <td>0.490603</td>\n",
       "      <td>0.682560</td>\n",
       "      <td>-0.855302</td>\n",
       "      <td>1.399350</td>\n",
       "      <td>1.451534</td>\n",
       "      <td>-1.045743</td>\n",
       "      <td>0.492489</td>\n",
       "    </tr>\n",
       "    <tr>\n",
       "      <th>3</th>\n",
       "      <td>0.820081</td>\n",
       "      <td>0.529920</td>\n",
       "      <td>1.299657</td>\n",
       "      <td>-1.141975</td>\n",
       "      <td>-0.812854</td>\n",
       "      <td>-0.763632</td>\n",
       "      <td>1.521579</td>\n",
       "      <td>0.658780</td>\n",
       "      <td>-0.958319</td>\n",
       "      <td>1.361958</td>\n",
       "      <td>1.604140</td>\n",
       "      <td>0.275303</td>\n",
       "    </tr>\n",
       "    <tr>\n",
       "      <th>4</th>\n",
       "      <td>0.665424</td>\n",
       "      <td>-1.425627</td>\n",
       "      <td>0.312300</td>\n",
       "      <td>0.919137</td>\n",
       "      <td>-1.614296</td>\n",
       "      <td>0.760315</td>\n",
       "      <td>1.422019</td>\n",
       "      <td>0.639243</td>\n",
       "      <td>1.676895</td>\n",
       "      <td>0.695660</td>\n",
       "      <td>1.137504</td>\n",
       "      <td>-1.312575</td>\n",
       "    </tr>\n",
       "  </tbody>\n",
       "</table>\n",
       "</div>"
      ],
      "text/plain": [
       "       tau1      tau2      tau3      tau4        p1        p2        p3  \\\n",
       "0  0.367327 -0.986042  0.650447  1.547527 -0.291490  0.061535  1.293862   \n",
       "1 -0.064659  0.089437  1.035079 -1.641494  0.619865 -0.067235 -1.502925   \n",
       "2 -1.467850  1.298418 -0.502536  1.166046 -0.180521  0.490603  0.682560   \n",
       "3  0.820081  0.529920  1.299657 -1.141975 -0.812854 -0.763632  1.521579   \n",
       "4  0.665424 -1.425627  0.312300  0.919137 -1.614296  0.760315  1.422019   \n",
       "\n",
       "         p4        g1        g2        g3        g4  \n",
       "0 -0.845074  0.160918  0.339859  0.585568  0.492239  \n",
       "1  0.486613 -0.293143 -1.558488  1.429649 -1.443521  \n",
       "2 -0.855302  1.399350  1.451534 -1.045743  0.492489  \n",
       "3  0.658780 -0.958319  1.361958  1.604140  0.275303  \n",
       "4  0.639243  1.676895  0.695660  1.137504 -1.312575  "
      ]
     },
     "execution_count": 24,
     "metadata": {},
     "output_type": "execute_result"
    }
   ],
   "source": [
    "scaled_X_train.head()"
   ]
  },
  {
   "cell_type": "code",
   "execution_count": 25,
   "id": "fc1aceff",
   "metadata": {},
   "outputs": [
    {
     "data": {
      "text/plain": [
       "(8000, 12)"
      ]
     },
     "execution_count": 25,
     "metadata": {},
     "output_type": "execute_result"
    }
   ],
   "source": [
    "scaled_X_train.shape"
   ]
  },
  {
   "cell_type": "code",
   "execution_count": 26,
   "id": "43f26f62",
   "metadata": {},
   "outputs": [
    {
     "data": {
      "text/html": [
       "<div>\n",
       "<style scoped>\n",
       "    .dataframe tbody tr th:only-of-type {\n",
       "        vertical-align: middle;\n",
       "    }\n",
       "\n",
       "    .dataframe tbody tr th {\n",
       "        vertical-align: top;\n",
       "    }\n",
       "\n",
       "    .dataframe thead th {\n",
       "        text-align: right;\n",
       "    }\n",
       "</style>\n",
       "<table border=\"1\" class=\"dataframe\">\n",
       "  <thead>\n",
       "    <tr style=\"text-align: right;\">\n",
       "      <th></th>\n",
       "      <th>tau1</th>\n",
       "      <th>tau2</th>\n",
       "      <th>tau3</th>\n",
       "      <th>tau4</th>\n",
       "      <th>p1</th>\n",
       "      <th>p2</th>\n",
       "      <th>p3</th>\n",
       "      <th>p4</th>\n",
       "      <th>g1</th>\n",
       "      <th>g2</th>\n",
       "      <th>g3</th>\n",
       "      <th>g4</th>\n",
       "    </tr>\n",
       "  </thead>\n",
       "  <tbody>\n",
       "    <tr>\n",
       "      <th>0</th>\n",
       "      <td>0.593951</td>\n",
       "      <td>-0.412733</td>\n",
       "      <td>1.503924</td>\n",
       "      <td>1.116943</td>\n",
       "      <td>0.403423</td>\n",
       "      <td>-1.492971</td>\n",
       "      <td>-0.785033</td>\n",
       "      <td>1.566781</td>\n",
       "      <td>-0.901007</td>\n",
       "      <td>1.167203</td>\n",
       "      <td>-1.507330</td>\n",
       "      <td>1.084726</td>\n",
       "    </tr>\n",
       "    <tr>\n",
       "      <th>1</th>\n",
       "      <td>0.202190</td>\n",
       "      <td>0.374416</td>\n",
       "      <td>-0.188800</td>\n",
       "      <td>-0.522268</td>\n",
       "      <td>-0.225967</td>\n",
       "      <td>-1.058483</td>\n",
       "      <td>0.420047</td>\n",
       "      <td>1.028627</td>\n",
       "      <td>-1.625721</td>\n",
       "      <td>-0.395660</td>\n",
       "      <td>1.414651</td>\n",
       "      <td>1.226011</td>\n",
       "    </tr>\n",
       "    <tr>\n",
       "      <th>2</th>\n",
       "      <td>-1.079044</td>\n",
       "      <td>-0.313745</td>\n",
       "      <td>-0.884634</td>\n",
       "      <td>0.017080</td>\n",
       "      <td>-0.943122</td>\n",
       "      <td>0.112653</td>\n",
       "      <td>0.801335</td>\n",
       "      <td>0.733004</td>\n",
       "      <td>1.457108</td>\n",
       "      <td>-1.438495</td>\n",
       "      <td>0.651821</td>\n",
       "      <td>-1.682168</td>\n",
       "    </tr>\n",
       "    <tr>\n",
       "      <th>3</th>\n",
       "      <td>-0.083120</td>\n",
       "      <td>-1.107327</td>\n",
       "      <td>0.372805</td>\n",
       "      <td>-1.708152</td>\n",
       "      <td>0.753990</td>\n",
       "      <td>-1.637972</td>\n",
       "      <td>0.403805</td>\n",
       "      <td>-0.088036</td>\n",
       "      <td>0.083322</td>\n",
       "      <td>-1.672322</td>\n",
       "      <td>-0.357714</td>\n",
       "      <td>1.055865</td>\n",
       "    </tr>\n",
       "    <tr>\n",
       "      <th>4</th>\n",
       "      <td>0.873921</td>\n",
       "      <td>1.438466</td>\n",
       "      <td>0.086662</td>\n",
       "      <td>1.715037</td>\n",
       "      <td>-0.153880</td>\n",
       "      <td>-0.007015</td>\n",
       "      <td>-0.197053</td>\n",
       "      <td>0.472315</td>\n",
       "      <td>0.136549</td>\n",
       "      <td>-1.469731</td>\n",
       "      <td>0.956396</td>\n",
       "      <td>-0.819727</td>\n",
       "    </tr>\n",
       "  </tbody>\n",
       "</table>\n",
       "</div>"
      ],
      "text/plain": [
       "       tau1      tau2      tau3      tau4        p1        p2        p3  \\\n",
       "0  0.593951 -0.412733  1.503924  1.116943  0.403423 -1.492971 -0.785033   \n",
       "1  0.202190  0.374416 -0.188800 -0.522268 -0.225967 -1.058483  0.420047   \n",
       "2 -1.079044 -0.313745 -0.884634  0.017080 -0.943122  0.112653  0.801335   \n",
       "3 -0.083120 -1.107327  0.372805 -1.708152  0.753990 -1.637972  0.403805   \n",
       "4  0.873921  1.438466  0.086662  1.715037 -0.153880 -0.007015 -0.197053   \n",
       "\n",
       "         p4        g1        g2        g3        g4  \n",
       "0  1.566781 -0.901007  1.167203 -1.507330  1.084726  \n",
       "1  1.028627 -1.625721 -0.395660  1.414651  1.226011  \n",
       "2  0.733004  1.457108 -1.438495  0.651821 -1.682168  \n",
       "3 -0.088036  0.083322 -1.672322 -0.357714  1.055865  \n",
       "4  0.472315  0.136549 -1.469731  0.956396 -0.819727  "
      ]
     },
     "execution_count": 26,
     "metadata": {},
     "output_type": "execute_result"
    }
   ],
   "source": [
    "scaled_X_test.head()"
   ]
  },
  {
   "cell_type": "code",
   "execution_count": 27,
   "id": "17a57eae",
   "metadata": {},
   "outputs": [
    {
     "data": {
      "text/plain": [
       "(2000, 12)"
      ]
     },
     "execution_count": 27,
     "metadata": {},
     "output_type": "execute_result"
    }
   ],
   "source": [
    "scaled_X_test.shape"
   ]
  },
  {
   "cell_type": "markdown",
   "id": "64409397",
   "metadata": {},
   "source": [
    "#### TP = True Positive\n",
    "#### TN = True Negative\n",
    "#### FP = False Positive\n",
    "#### FN = False Negative"
   ]
  },
  {
   "cell_type": "markdown",
   "id": "d970cc0c",
   "metadata": {},
   "source": [
    "### Que 1 Answer - B and D"
   ]
  },
  {
   "cell_type": "markdown",
   "id": "2ebb213d",
   "metadata": {},
   "source": [
    "### Que 2 Answer - B"
   ]
  },
  {
   "cell_type": "markdown",
   "id": "1846eec7",
   "metadata": {},
   "source": [
    "### Que 3\n",
    "Features Importance"
   ]
  },
  {
   "cell_type": "code",
   "execution_count": 28,
   "id": "3eebfdb8",
   "metadata": {},
   "outputs": [],
   "source": [
    "from sklearn.metrics import recall_score, accuracy_score, precision_score, f1_score, confusion_matrix"
   ]
  },
  {
   "cell_type": "code",
   "execution_count": 29,
   "id": "02e36c9e",
   "metadata": {},
   "outputs": [
    {
     "name": "stderr",
     "output_type": "stream",
     "text": [
      "<ipython-input-29-bf4bf0b154f7>:6: DataConversionWarning: A column-vector y was passed when a 1d array was expected. Please change the shape of y to (n_samples,), for example using ravel().\n",
      "  etc.fit(scaled_X_train, y_train)\n"
     ]
    },
    {
     "name": "stdout",
     "output_type": "stream",
     "text": [
      "Accuracy for Extra Tree Classifier is 0.928\n",
      "The most important feature is 0    tau2\n",
      "dtype: object \n",
      "\n",
      "The least important feature is 0    p1\n",
      "dtype: object\n"
     ]
    }
   ],
   "source": [
    "# importing extra tree classifier\n",
    "from sklearn.ensemble import ExtraTreesClassifier\n",
    "etc = ExtraTreesClassifier(random_state=1)\n",
    "\n",
    "#fit train set\n",
    "etc.fit(scaled_X_train, y_train)\n",
    "\n",
    "# predict test set\n",
    "etc_pred = etc.predict(scaled_X_test)\n",
    "\n",
    "# accuracy of test set\n",
    "etc_accuracy = accuracy_score(y_true=y_test, y_pred=etc_pred)\n",
    "print(f'Accuracy for Extra Tree Classifier is {etc_accuracy}')\n",
    "\n",
    "features_importance = pd.DataFrame(etc.feature_importances_, index=X.columns)\n",
    "features = features_importance.sort_values(0)\n",
    "\n",
    "# most important feature\n",
    "print(f'The most important feature is {features.idxmax()}','\\n')\n",
    "\n",
    "# least important feature\n",
    "print(f'The least important feature is {features.idxmin()}')"
   ]
  },
  {
   "cell_type": "markdown",
   "id": "a0d6bdf6",
   "metadata": {},
   "source": [
    "### Que 4 Answer - C"
   ]
  },
  {
   "cell_type": "markdown",
   "id": "a7d85585",
   "metadata": {},
   "source": [
    "### Que 5"
   ]
  },
  {
   "cell_type": "code",
   "execution_count": 30,
   "id": "f6caa762",
   "metadata": {},
   "outputs": [
    {
     "data": {
      "text/plain": [
       "0.2636"
      ]
     },
     "execution_count": 30,
     "metadata": {},
     "output_type": "execute_result"
    }
   ],
   "source": [
    "TP = 255\n",
    "TN = 20\n",
    "FP = 1380\n",
    "FN = 45\n",
    "precision = TP / (TP + FP)\n",
    "recall = TP / (TP + FN)\n",
    "f1_score =  round(2 * ((precision* recall)/(precision+recall)),4)\n",
    "f1_score"
   ]
  },
  {
   "cell_type": "markdown",
   "id": "061785e6",
   "metadata": {},
   "source": [
    "### Que 6\n",
    "XGBoost classifier"
   ]
  },
  {
   "cell_type": "code",
   "execution_count": 31,
   "id": "e95b86c5",
   "metadata": {},
   "outputs": [
    {
     "name": "stderr",
     "output_type": "stream",
     "text": [
      "C:\\Anaconda\\envs\\TensorFlow\\lib\\site-packages\\xgboost\\sklearn.py:1146: UserWarning: The use of label encoder in XGBClassifier is deprecated and will be removed in a future release. To remove this warning, do the following: 1) Pass option use_label_encoder=False when constructing XGBClassifier object; and 2) Encode your labels (y) as integers starting with 0, i.e. 0, 1, 2, ..., [num_class - 1].\n",
      "  warnings.warn(label_encoder_deprecation_msg, UserWarning)\n",
      "C:\\Anaconda\\envs\\TensorFlow\\lib\\site-packages\\sklearn\\utils\\validation.py:63: DataConversionWarning: A column-vector y was passed when a 1d array was expected. Please change the shape of y to (n_samples, ), for example using ravel().\n",
      "  return f(*args, **kwargs)\n"
     ]
    },
    {
     "name": "stdout",
     "output_type": "stream",
     "text": [
      "[19:38:06] WARNING: C:/Users/Administrator/workspace/xgboost-win64_release_1.4.0/src/learner.cc:1095: Starting in XGBoost 1.3.0, the default evaluation metric used with the objective 'binary:logistic' was changed from 'error' to 'logloss'. Explicitly set eval_metric if you'd like to restore the old behavior.\n",
      "Accuracy for XGBoost classifier is : 0.9455\n"
     ]
    }
   ],
   "source": [
    "#importing XGBoost classifier\n",
    "from xgboost import XGBClassifier\n",
    "xgb = XGBClassifier(random_state=1)\n",
    "\n",
    "#fit train set\n",
    "xgb.fit(scaled_X_train, y_train)\n",
    "\n",
    "# predict test set\n",
    "xgb_pred = xgb.predict(scaled_X_test)\n",
    "\n",
    "# accuracy of test set\n",
    "xgb_accuracy = accuracy_score(y_true=y_test, y_pred=xgb_pred)\n",
    "\n",
    "print(f'Accuracy for XGBoost classifier is : {xgb_accuracy}')"
   ]
  },
  {
   "cell_type": "markdown",
   "id": "36a6d324",
   "metadata": {},
   "source": [
    "### Que 7 Answer - D"
   ]
  },
  {
   "cell_type": "markdown",
   "id": "1ac20db0",
   "metadata": {},
   "source": [
    "### Que 8 Answer - Grid Search"
   ]
  },
  {
   "cell_type": "markdown",
   "id": "ea4eee5e",
   "metadata": {},
   "source": [
    "### Que 9 Answer - A"
   ]
  },
  {
   "cell_type": "markdown",
   "id": "caff77ce",
   "metadata": {},
   "source": [
    "### Que 10\n",
    "LGBM classifier"
   ]
  },
  {
   "cell_type": "code",
   "execution_count": 32,
   "id": "3c1d5208",
   "metadata": {},
   "outputs": [
    {
     "name": "stderr",
     "output_type": "stream",
     "text": [
      "C:\\Anaconda\\envs\\TensorFlow\\lib\\site-packages\\sklearn\\utils\\validation.py:63: DataConversionWarning: A column-vector y was passed when a 1d array was expected. Please change the shape of y to (n_samples, ), for example using ravel().\n",
      "  return f(*args, **kwargs)\n"
     ]
    },
    {
     "name": "stdout",
     "output_type": "stream",
     "text": [
      "Accuracy for LGBM classifier is : 0.9395\n"
     ]
    }
   ],
   "source": [
    "#importing LGBM classifier\n",
    "from lightgbm import LGBMClassifier\n",
    "lgbm = LGBMClassifier(random_state=1)\n",
    "\n",
    "#fit train set\n",
    "lgbm.fit(scaled_X_train, y_train)\n",
    "\n",
    "# predict test set\n",
    "lgbm_pred = lgbm.predict(scaled_X_test)\n",
    "\n",
    "# accuracy of test set\n",
    "lgbm_accuracy = accuracy_score(y_true=y_test, y_pred=lgbm_pred)\n",
    "print(f'Accuracy for LGBM classifier is : {lgbm_accuracy}')"
   ]
  },
  {
   "cell_type": "markdown",
   "id": "33fcc861",
   "metadata": {},
   "source": [
    "### Que 11\n",
    "Random Forest classifier"
   ]
  },
  {
   "cell_type": "code",
   "execution_count": 33,
   "id": "e3d5f14c",
   "metadata": {
    "scrolled": true
   },
   "outputs": [
    {
     "name": "stderr",
     "output_type": "stream",
     "text": [
      "<ipython-input-33-1e88564f116b>:7: DataConversionWarning: A column-vector y was passed when a 1d array was expected. Please change the shape of y to (n_samples,), for example using ravel().\n",
      "  rfc.fit(scaled_X_train, y_train)\n"
     ]
    },
    {
     "name": "stdout",
     "output_type": "stream",
     "text": [
      "Accuracy for Random Forest classifier is : 0.929\n"
     ]
    }
   ],
   "source": [
    "#importing Random Forest classifier\n",
    "\n",
    "from sklearn.ensemble import RandomForestClassifier\n",
    "rfc = RandomForestClassifier(random_state=1)\n",
    "\n",
    "#fit train set\n",
    "rfc.fit(scaled_X_train, y_train)\n",
    "\n",
    "# predict test set\n",
    "rfc_pred = rfc.predict(scaled_X_test)\n",
    "\n",
    "# accuracy of test set\n",
    "from sklearn.metrics import recall_score, accuracy_score, precision_score, f1_score, confusion_matrix\n",
    "rfc_accuracy = accuracy_score(y_true=y_test, y_pred=rfc_pred)\n",
    "print(f'Accuracy for Random Forest classifier is : {rfc_accuracy}')"
   ]
  },
  {
   "cell_type": "markdown",
   "id": "2fb3abc8",
   "metadata": {},
   "source": [
    "### Que 12 Answer - D\n",
    "Best hyperparameters from the randomized search CV"
   ]
  },
  {
   "cell_type": "code",
   "execution_count": 34,
   "id": "98ac8381",
   "metadata": {},
   "outputs": [
    {
     "name": "stdout",
     "output_type": "stream",
     "text": [
      "Fitting 5 folds for each of 10 candidates, totalling 50 fits\n"
     ]
    },
    {
     "name": "stderr",
     "output_type": "stream",
     "text": [
      "C:\\Anaconda\\envs\\TensorFlow\\lib\\site-packages\\sklearn\\model_selection\\_search.py:880: DataConversionWarning: A column-vector y was passed when a 1d array was expected. Please change the shape of y to (n_samples,), for example using ravel().\n",
      "  self.best_estimator_.fit(X, y, **fit_params)\n"
     ]
    },
    {
     "data": {
      "text/plain": [
       "{'n_estimators': 1000,\n",
       " 'min_samples_split': 2,\n",
       " 'min_samples_leaf': 8,\n",
       " 'max_features': None}"
      ]
     },
     "execution_count": 34,
     "metadata": {},
     "output_type": "execute_result"
    }
   ],
   "source": [
    "# range of parameters to find the best hyperparameters\n",
    "n_estimators = [50, 100, 300, 500, 1000]\n",
    "min_samples_split = [2, 3, 5, 7, 9]\n",
    "min_samples_leaf = [1, 2, 4, 6, 8]\n",
    "max_features = ['auto', 'sqrt', 'log2', None]\n",
    "\n",
    "hyperparameter_grid = {'n_estimators': n_estimators,\n",
    "                       'min_samples_leaf': min_samples_leaf,\n",
    "                       'min_samples_split': min_samples_split,\n",
    "                       'max_features': max_features}\n",
    "\n",
    "#importing Random Search CV\n",
    "from sklearn.model_selection import RandomizedSearchCV\n",
    "rsc =  RandomizedSearchCV(etc,hyperparameter_grid, cv=5, n_iter=10, scoring = 'accuracy', n_jobs = -1, verbose = 1, random_state = 1)\n",
    "\n",
    "#fit train set\n",
    "r_searchCV = rsc.fit(scaled_X_train, y_train)\n",
    "\n",
    "# best hyperparameters from the randomized search CV\n",
    "r_searchCV.best_params_"
   ]
  },
  {
   "cell_type": "markdown",
   "id": "d905392a",
   "metadata": {},
   "source": [
    "### Que 13 Answer - C"
   ]
  },
  {
   "cell_type": "markdown",
   "id": "3a7a8828",
   "metadata": {},
   "source": [
    "### Que 14 Answer - D"
   ]
  },
  {
   "cell_type": "markdown",
   "id": "a9969610",
   "metadata": {},
   "source": [
    "### Que 15 Answer - D"
   ]
  },
  {
   "cell_type": "markdown",
   "id": "de8bc849",
   "metadata": {},
   "source": [
    "### Que 16 Answer - D"
   ]
  },
  {
   "cell_type": "markdown",
   "id": "e50a3bc8",
   "metadata": {},
   "source": [
    "### Que 17 Answer - B"
   ]
  },
  {
   "cell_type": "markdown",
   "id": "c103f990",
   "metadata": {},
   "source": [
    "### Que 18 Answer - C"
   ]
  },
  {
   "cell_type": "markdown",
   "id": "01b21a87",
   "metadata": {},
   "source": [
    "### Que 19 Answer - D"
   ]
  },
  {
   "cell_type": "markdown",
   "id": "e120c19e",
   "metadata": {},
   "source": [
    "### Que 20 Answer - A"
   ]
  },
  {
   "cell_type": "code",
   "execution_count": null,
   "id": "0892c455",
   "metadata": {},
   "outputs": [],
   "source": []
  }
 ],
 "metadata": {
  "kernelspec": {
   "display_name": "Python 3",
   "language": "python",
   "name": "python3"
  },
  "language_info": {
   "codemirror_mode": {
    "name": "ipython",
    "version": 3
   },
   "file_extension": ".py",
   "mimetype": "text/x-python",
   "name": "python",
   "nbconvert_exporter": "python",
   "pygments_lexer": "ipython3",
   "version": "3.8.11"
  }
 },
 "nbformat": 4,
 "nbformat_minor": 5
}
